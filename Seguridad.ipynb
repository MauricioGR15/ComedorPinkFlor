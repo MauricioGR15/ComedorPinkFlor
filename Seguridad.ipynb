{
    "metadata": {
        "kernelspec": {
            "name": "SQL",
            "display_name": "SQL",
            "language": "sql"
        },
        "language_info": {
            "name": "sql",
            "version": ""
        }
    },
    "nbformat_minor": 2,
    "nbformat": 4,
    "cells": [
        {
            "cell_type": "code",
            "source": [
                "use ComedorPinkFlor"
            ],
            "metadata": {
                "azdata_cell_guid": "1e973801-c954-41bc-b9d1-990dfe57e98d"
            },
            "outputs": [],
            "execution_count": null
        },
        {
            "cell_type": "markdown",
            "source": [
                "ROLES"
            ],
            "metadata": {
                "azdata_cell_guid": "4495ccb4-ed91-48c4-bad8-3277f2693c9a"
            }
        },
        {
            "cell_type": "code",
            "source": [
                "create role tutor\r\n",
                "create role nutriologo\r\n",
                "create role almacen \r\n",
                "create role cocina\r\n",
                "create role cajero\r\n",
                "create role administrador"
            ],
            "metadata": {
                "azdata_cell_guid": "3b757a7a-cae1-4894-918d-777a32a65b79",
                "tags": []
            },
            "outputs": [],
            "execution_count": null
        },
        {
            "cell_type": "markdown",
            "source": [
                "LOGIN Y USUARIOS"
            ],
            "metadata": {
                "azdata_cell_guid": "e70b894e-712c-412f-a519-08ce7d63fc59"
            }
        },
        {
            "cell_type": "code",
            "source": [
                "create login tutor_1 with password = 'tutor123'\r\n",
                "create login nutriologo_1 with password = 'nutri123'\r\n",
                "create login almacen_1 with password = 'almacen123'\r\n",
                "create login cocina_1 with password = 'cocina123'\r\n",
                "create login cajero_1 with password = 'cajero123'\r\n",
                "create login administrador_1 with password = 'amin123'"
            ],
            "metadata": {
                "azdata_cell_guid": "fe6525d7-f2be-47c8-b7d7-f70dba7d2e42"
            },
            "outputs": [],
            "execution_count": null
        },
        {
            "cell_type": "code",
            "source": [
                "create user tutor1 for login tutor_1\r\n",
                "create user nutriologo1 for login nutriologo_1\r\n",
                "create user almacen1 for login almacen_1\r\n",
                "create user cocina1 for login cocina_1\r\n",
                "create user cajero1 for login cajero_1\r\n",
                "create user admin1 for login administrador_1"
            ],
            "metadata": {
                "azdata_cell_guid": "88995165-99d1-4eae-8397-ae64e79170e5"
            },
            "outputs": [],
            "execution_count": null
        },
        {
            "cell_type": "code",
            "source": [
                "alter role tutor add member tutor1\r\n",
                "alter role nutriologo add member nutriologo1\r\n",
                "alter role almacen add member  almacen1\r\n",
                "alter role cocina add member cocina1\r\n",
                "alter role cajero add member cajero1\r\n",
                "alter role administrador add member admin1\r\n",
                ""
            ],
            "metadata": {
                "azdata_cell_guid": "a3ae38b8-a957-4067-af56-3ee2f43339c3"
            },
            "outputs": [],
            "execution_count": null
        },
        {
            "cell_type": "markdown",
            "source": [
                "AREAS"
            ],
            "metadata": {
                "azdata_cell_guid": "8fd04583-6810-4584-a587-6529fbefa48c"
            }
        },
        {
            "cell_type": "code",
            "source": [
                "create schema General"
            ],
            "metadata": {
                "azdata_cell_guid": "b79f36c7-66ca-488d-8e84-ea852e290271"
            },
            "outputs": [],
            "execution_count": null
        },
        {
            "cell_type": "code",
            "source": [
                "alter schema general transfer dbo.MenuVentasNutriologo\r\n",
                "alter schema general transfer  dbo.MenusEleccionTutores\r\n",
                "alter schema general transfer dbo.TelefonosTutoresAlergias\r\n",
                "alter schema general transfer dbo.AlimentosMensuales\r\n",
                "alter schema general transfer dbo.VentasMenuMensual"
            ],
            "metadata": {
                "azdata_cell_guid": "0e399055-b6ca-40a4-88f2-56a247949d88"
            },
            "outputs": [],
            "execution_count": null
        },
        {
            "cell_type": "markdown",
            "source": [
                "PERMISOS"
            ],
            "metadata": {
                "azdata_cell_guid": "813fe976-0c51-4d33-9290-8cb58c46049f"
            }
        },
        {
            "cell_type": "code",
            "source": [
                "--Tutor\r\n",
                "grant select on schema::general to tutor\r\n",
                "deny insert, delete, update on schema::general to tutor\r\n",
                "--Nutriologo\r\n",
                "grant select, insert, execute, update on schema::general to nutriologo\r\n",
                "deny delete on schema::general to nutriologo\r\n",
                "--Almacen\r\n",
                "grant select,update, execute on schema::general to almacen\r\n",
                "deny insert, delete on schema::general to almacen\r\n",
                "--Cocina\r\n",
                "grant select on schema::general to cocina\r\n",
                "deny delete, update, insert on schema::general to cocina\r\n",
                "--Cajero/administrador\r\n",
                "grant select, update, execute, insert, delete on schema::general to cajero\r\n",
                "--AdminSistema\r\n",
                "GRANT ALTER, CONTROL, DELETE, EXECUTE, INSERT, REFERENCES, SELECT, UPDATE, VIEW CHANGE TRACKING, VIEW DEFINITION ON Schema::dbo TO administrador\r\n",
                "GRANT ALTER, CONTROL, DELETE, EXECUTE, INSERT, REFERENCES, SELECT, UPDATE, VIEW CHANGE TRACKING, VIEW DEFINITION ON Schema::general TO administrador\r\n",
                ""
            ],
            "metadata": {
                "azdata_cell_guid": "f46c9192-feed-4a7c-8b4f-b8b7d2acdba7"
            },
            "outputs": [],
            "execution_count": null
        }
    ]
}